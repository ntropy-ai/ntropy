{
 "cells": [
  {
   "cell_type": "markdown",
   "metadata": {},
   "source": [
    "## Ntropy AI demo - Multimodal RAG on slide deck\n",
    "for this demo, we'll make a RAG from the slide deck of https://static.conocophillips.com/files/2023-conocophillips-aim-presentation.pdf, that contains text, tables, images, diagrams, and complex layouts.\n",
    "\n",
    "A gap of text-based RAG is that they struggle with purely text-based representations of complex documents. For instance, if a page contains a lot of images and diagrams, a text parser would need to rely on raw OCR to extract out text. You can also use a multimodal model (e.g. gpt-4o and up) to do text extraction, but this is inherently a lossy conversion.\n",
    "\n",
    "the idea here is to create embeddings from slide images using a Multimodal Embeddings model, use openai tool calling to let a LLM call the retriever with the right keywords, then pass the returned images to gpt4o to let it answer the query.\n",
    "\n",
    "this light architecture achieve satisfactory results, and further document processing before retrieval can be done.\n",
    "\n",
    "\n",
    "this demo is inspired by https://github.com/run-llama/llama_parse/blob/main/examples/multimodal/multimodal_rag_slide_deck.ipynb\n"
   ]
  },
  {
   "cell_type": "code",
   "execution_count": 1,
   "metadata": {},
   "outputs": [
    {
     "name": "stderr",
     "output_type": "stream",
     "text": [
      "/Users/hugolebelzic/miniconda3/envs/ntropy/lib/python3.10/site-packages/pinecone/data/index.py:1: TqdmWarning: IProgress not found. Please update jupyter and ipywidgets. See https://ipywidgets.readthedocs.io/en/stable/user_install.html\n",
      "  from tqdm.autonotebook import tqdm\n"
     ]
    }
   ],
   "source": [
    "from ntropy_ai.core.auth import BaseAuth # for Ntropy Central Auth System\n",
    "import os\n",
    "from ntropy_ai.core.utils import clear_cache # a function to clear the cached files for the embeddings\n",
    "from ntropy_ai.core.utils.base_format import Document # the Document class to store the data\n",
    "from ntropy_ai.core.providers.aws import utils as aws_utils # a utility function to upload the images to S3\n",
    "\n",
    "# hide warning\n",
    "import warnings\n",
    "warnings.filterwarnings('ignore')"
   ]
  },
  {
   "cell_type": "code",
   "execution_count": 2,
   "metadata": {},
   "outputs": [
    {
     "name": "stdout",
     "output_type": "stream",
     "text": [
      "AWS connection initialized successfully.\n",
      "OpenAI connection initialized successfully.\n",
      "Pinecone connection initialized successfully.\n"
     ]
    }
   ],
   "source": [
    "db_instance = BaseAuth() # we first import the BaseAuth class, which is the class for the Ntropy Central Auth System\n",
    "key_file = os.path.join(os.getcwd(), \"private_key.pem\") # we get the path to the private key file, which is the 'password' to sign in\n",
    "db_instance.connect(key_file=key_file) # we connect to the database\n",
    "#if everything goes well, you should see a message like this:"
   ]
  },
  {
   "cell_type": "code",
   "execution_count": 3,
   "metadata": {},
   "outputs": [],
   "source": [
    "from ntropy_ai.core.document_instance.load.pdf import PDFLoader\n",
    "from ntropy_ai.core.document_instance.process.chunk_text import BasicTextChunk\n",
    "\n",
    "file = '2023-conocophillips-aim-presentation.pdf'\n",
    "img_path = 'pdf_images'\n",
    "\n",
    "loaded_pdf = PDFLoader(file_path=file, output_img_path=img_path)\n",
    "texts_ = loaded_pdf.extract_text()\n",
    "images_ = loaded_pdf.extract_images()\n",
    "chunks = []\n",
    "for text in texts_:\n",
    "    chunks.extend(BasicTextChunk(chunk_size=64, document=text))"
   ]
  },
  {
   "cell_type": "code",
   "execution_count": 4,
   "metadata": {},
   "outputs": [
    {
     "name": "stderr",
     "output_type": "stream",
     "text": [
      "Uploading images: 100%|██████████| 62/62 [03:53<00:00,  3.77s/it]\n"
     ]
    }
   ],
   "source": [
    "from tqdm import tqdm # use tqdm to have a pretty loading bar\n",
    "\n",
    "images_ = [] # initialize empty images_ list\n",
    "for file in tqdm(os.listdir('pdf_images'), desc=\"Uploading images\"): # iterate through each file\n",
    "    # we're going to use the aws_utils helper function to upload the images to the s3 bucket\n",
    "    # the function directly upload the image to the s3 bucket and return the url. Please check the notebook LINK for more configuration details\n",
    "    img_url = aws_utils.upload_to_s3(os.path.join('pdf_images', file))\n",
    "    images_.append(Document(image=img_url, metadata={'type': 'image'})) #"
   ]
  },
  {
   "cell_type": "code",
   "execution_count": 5,
   "metadata": {},
   "outputs": [
    {
     "data": {
      "text/plain": [
       "[Document(id='1543ff917f0943e7aa0d589ed6bf4232', metadata={'type': 'image'}, page_number=None, content=None, image='https://ntropy-test.s3.amazonaws.com/pdf_images/image_39_1.png'),\n",
       " Document(id='9f28419a13784e279ba4931e08d25fe1', metadata={'type': 'image'}, page_number=None, content=None, image='https://ntropy-test.s3.amazonaws.com/pdf_images/image_41_1.png'),\n",
       " Document(id='b2100388c1694e4281c524f6acec2eb2', metadata={'type': 'image'}, page_number=None, content=None, image='https://ntropy-test.s3.amazonaws.com/pdf_images/image_6_1.png'),\n",
       " Document(id='e0c8691b89594e2fbcf08fe1675b7456', metadata={'type': 'image'}, page_number=None, content=None, image='https://ntropy-test.s3.amazonaws.com/pdf_images/image_20_1.png'),\n",
       " Document(id='21a3b6187aa74813918e123991156b66', metadata={'type': 'image'}, page_number=None, content=None, image='https://ntropy-test.s3.amazonaws.com/pdf_images/image_58_1.png'),\n",
       " Document(id='15fc9ba7898b477fb882e985d3fc8a6c', metadata={'type': 'image'}, page_number=None, content=None, image='https://ntropy-test.s3.amazonaws.com/pdf_images/image_22_1.png'),\n",
       " Document(id='864780f6ee924bc48e6f5399aecf8e7c', metadata={'type': 'image'}, page_number=None, content=None, image='https://ntropy-test.s3.amazonaws.com/pdf_images/image_43_1.png'),\n",
       " Document(id='6509f00f0a6141498caa7c5be8d54408', metadata={'type': 'image'}, page_number=None, content=None, image='https://ntropy-test.s3.amazonaws.com/pdf_images/image_4_1.png'),\n",
       " Document(id='cc0785f2d7024e1e8b6133b0e029ff03', metadata={'type': 'image'}, page_number=None, content=None, image='https://ntropy-test.s3.amazonaws.com/pdf_images/image_0_1.png'),\n",
       " Document(id='6fc9eb0d5b2f4c3890c09b145ff85b04', metadata={'type': 'image'}, page_number=None, content=None, image='https://ntropy-test.s3.amazonaws.com/pdf_images/image_47_1.png'),\n",
       " Document(id='b20a7dc108964afd82c1a7bb9685a828', metadata={'type': 'image'}, page_number=None, content=None, image='https://ntropy-test.s3.amazonaws.com/pdf_images/image_26_1.png'),\n",
       " Document(id='a0fa2d8665e34bbb846a18beb40988ed', metadata={'type': 'image'}, page_number=None, content=None, image='https://ntropy-test.s3.amazonaws.com/pdf_images/image_61_1.png'),\n",
       " Document(id='0fc9df873c3843728b7efea0312c0c1d', metadata={'type': 'image'}, page_number=None, content=None, image='https://ntropy-test.s3.amazonaws.com/pdf_images/image_24_1.png'),\n",
       " Document(id='31e1d193bd234a11a2f25d008bbfaa61', metadata={'type': 'image'}, page_number=None, content=None, image='https://ntropy-test.s3.amazonaws.com/pdf_images/image_19_1.png'),\n",
       " Document(id='dbc08dd30a67432c80dc923d8b7e9932', metadata={'type': 'image'}, page_number=None, content=None, image='https://ntropy-test.s3.amazonaws.com/pdf_images/image_2_1.png'),\n",
       " Document(id='00382b548cec40c694db9de29f3b7cae', metadata={'type': 'image'}, page_number=None, content=None, image='https://ntropy-test.s3.amazonaws.com/pdf_images/image_45_1.png'),\n",
       " Document(id='7f0c8afb37b443c4a75d7c46026a2bf0', metadata={'type': 'image'}, page_number=None, content=None, image='https://ntropy-test.s3.amazonaws.com/pdf_images/image_23_1.png'),\n",
       " Document(id='5b767bb5107d448e8d00f990afdaad25', metadata={'type': 'image'}, page_number=None, content=None, image='https://ntropy-test.s3.amazonaws.com/pdf_images/image_5_1.png'),\n",
       " Document(id='1ea1d5374612429cbe0fb31ab96f2f93', metadata={'type': 'image'}, page_number=None, content=None, image='https://ntropy-test.s3.amazonaws.com/pdf_images/image_42_1.png'),\n",
       " Document(id='932e154a2b554220b9e40b7871e14d57', metadata={'type': 'image'}, page_number=None, content=None, image='https://ntropy-test.s3.amazonaws.com/pdf_images/image_7_1.png'),\n",
       " Document(id='ea589563ce7742a091b6effba7c92ec9', metadata={'type': 'image'}, page_number=None, content=None, image='https://ntropy-test.s3.amazonaws.com/pdf_images/image_40_1.png'),\n",
       " Document(id='7f259772a62b4a12a59b3e8bfa29943c', metadata={'type': 'image'}, page_number=None, content=None, image='https://ntropy-test.s3.amazonaws.com/pdf_images/image_38_1.png'),\n",
       " Document(id='657a7e431697431bb1546d95c40e1890', metadata={'type': 'image'}, page_number=None, content=None, image='https://ntropy-test.s3.amazonaws.com/pdf_images/image_59_1.png'),\n",
       " Document(id='8cfb311d1806453ea1647e306db8eed8', metadata={'type': 'image'}, page_number=None, content=None, image='https://ntropy-test.s3.amazonaws.com/pdf_images/image_21_1.png'),\n",
       " Document(id='fc7922bf75a047f796e78fb45e043c8d', metadata={'type': 'image'}, page_number=None, content=None, image='https://ntropy-test.s3.amazonaws.com/pdf_images/image_18_1.png'),\n",
       " Document(id='6b1728038dfc4759a5a1dfbe127748ee', metadata={'type': 'image'}, page_number=None, content=None, image='https://ntropy-test.s3.amazonaws.com/pdf_images/image_25_1.png'),\n",
       " Document(id='ddcb7eae4eb344e4a8e00254145d9bf6', metadata={'type': 'image'}, page_number=None, content=None, image='https://ntropy-test.s3.amazonaws.com/pdf_images/image_60_1.png'),\n",
       " Document(id='4f5445627e12429b883c8e02ecef0e98', metadata={'type': 'image'}, page_number=None, content=None, image='https://ntropy-test.s3.amazonaws.com/pdf_images/image_44_1.png'),\n",
       " Document(id='ac6af78fca5f46a5a956069897c67725', metadata={'type': 'image'}, page_number=None, content=None, image='https://ntropy-test.s3.amazonaws.com/pdf_images/image_3_1.png'),\n",
       " Document(id='071567e4a8cc4c29b7e04f2cdab4537c', metadata={'type': 'image'}, page_number=None, content=None, image='https://ntropy-test.s3.amazonaws.com/pdf_images/image_46_1.png'),\n",
       " Document(id='bc0b18bff1fb4d3c9dd07405644ed016', metadata={'type': 'image'}, page_number=None, content=None, image='https://ntropy-test.s3.amazonaws.com/pdf_images/image_1_1.png'),\n",
       " Document(id='374688c60042493cb7ede6c7d874fc7b', metadata={'type': 'image'}, page_number=None, content=None, image='https://ntropy-test.s3.amazonaws.com/pdf_images/image_27_1.png'),\n",
       " Document(id='34a297e62ec141e8a9fef4a0c092591a', metadata={'type': 'image'}, page_number=None, content=None, image='https://ntropy-test.s3.amazonaws.com/pdf_images/image_53_1.png'),\n",
       " Document(id='61a536e2d96b45249dbcfa15e2530690', metadata={'type': 'image'}, page_number=None, content=None, image='https://ntropy-test.s3.amazonaws.com/pdf_images/image_16_1.png'),\n",
       " Document(id='6cd6070a69394a11b717c0deac65edbd', metadata={'type': 'image'}, page_number=None, content=None, image='https://ntropy-test.s3.amazonaws.com/pdf_images/image_32_1.png'),\n",
       " Document(id='070d07025b8841f19f26b1bc4128df42', metadata={'type': 'image'}, page_number=None, content=None, image='https://ntropy-test.s3.amazonaws.com/pdf_images/image_30_1.png'),\n",
       " Document(id='a4bac5d01b3748fd8fab19d24c5866f5', metadata={'type': 'image'}, page_number=None, content=None, image='https://ntropy-test.s3.amazonaws.com/pdf_images/image_48_1.png'),\n",
       " Document(id='83a392149fc346ed8eb5402222474de5', metadata={'type': 'image'}, page_number=None, content=None, image='https://ntropy-test.s3.amazonaws.com/pdf_images/image_29_1.png'),\n",
       " Document(id='e792242af5374e0a833209188f6eeb17', metadata={'type': 'image'}, page_number=None, content=None, image='https://ntropy-test.s3.amazonaws.com/pdf_images/image_51_1.png'),\n",
       " Document(id='02399b272aeb4c47b97095e743c34360', metadata={'type': 'image'}, page_number=None, content=None, image='https://ntropy-test.s3.amazonaws.com/pdf_images/image_14_1.png'),\n",
       " Document(id='6cfa162d6cb04757bd38f3af7ff5ed95', metadata={'type': 'image'}, page_number=None, content=None, image='https://ntropy-test.s3.amazonaws.com/pdf_images/image_55_1.png'),\n",
       " Document(id='74e939475bcd48d0b1519aa8fe90a76d', metadata={'type': 'image'}, page_number=None, content=None, image='https://ntropy-test.s3.amazonaws.com/pdf_images/image_10_1.png'),\n",
       " Document(id='806520d8fe7f4290aeb8b2fff2c0224c', metadata={'type': 'image'}, page_number=None, content=None, image='https://ntropy-test.s3.amazonaws.com/pdf_images/image_34_1.png'),\n",
       " Document(id='45f876f6b05d423b81aba50813731b4a', metadata={'type': 'image'}, page_number=None, content=None, image='https://ntropy-test.s3.amazonaws.com/pdf_images/image_9_1.png'),\n",
       " Document(id='ff055699a58b4a18af151f9033f07443', metadata={'type': 'image'}, page_number=None, content=None, image='https://ntropy-test.s3.amazonaws.com/pdf_images/image_36_1.png'),\n",
       " Document(id='19c2378025b442a1b474f9b0694a7d98', metadata={'type': 'image'}, page_number=None, content=None, image='https://ntropy-test.s3.amazonaws.com/pdf_images/image_57_1.png'),\n",
       " Document(id='375856bf3e674595a72ba0fc203f3b93', metadata={'type': 'image'}, page_number=None, content=None, image='https://ntropy-test.s3.amazonaws.com/pdf_images/image_12_1.png'),\n",
       " Document(id='e0b3aaaf2ec348b3a0c183c8284ff9a5', metadata={'type': 'image'}, page_number=None, content=None, image='https://ntropy-test.s3.amazonaws.com/pdf_images/image_49_1.png'),\n",
       " Document(id='68e14ac35be542ca836e5a136cb850ba', metadata={'type': 'image'}, page_number=None, content=None, image='https://ntropy-test.s3.amazonaws.com/pdf_images/image_31_1.png'),\n",
       " Document(id='b2b8ebde027848a98a51fcf39492f659', metadata={'type': 'image'}, page_number=None, content=None, image='https://ntropy-test.s3.amazonaws.com/pdf_images/image_15_1.png'),\n",
       " Document(id='9ea4e2a10a404ca38cf0586892a409b9', metadata={'type': 'image'}, page_number=None, content=None, image='https://ntropy-test.s3.amazonaws.com/pdf_images/image_50_1.png'),\n",
       " Document(id='6f448ba6264144a6ae1ad5c5c85faaa2', metadata={'type': 'image'}, page_number=None, content=None, image='https://ntropy-test.s3.amazonaws.com/pdf_images/image_28_1.png'),\n",
       " Document(id='633c496e1c73472f971a9da6527b1a9e', metadata={'type': 'image'}, page_number=None, content=None, image='https://ntropy-test.s3.amazonaws.com/pdf_images/image_17_1.png'),\n",
       " Document(id='8f69b2ecf59c4d56b1bb0b3e0f89c46f', metadata={'type': 'image'}, page_number=None, content=None, image='https://ntropy-test.s3.amazonaws.com/pdf_images/image_52_1.png'),\n",
       " Document(id='2f9bfccae3564c788efa00693f98f8a6', metadata={'type': 'image'}, page_number=None, content=None, image='https://ntropy-test.s3.amazonaws.com/pdf_images/image_33_1.png'),\n",
       " Document(id='003173705d29471fa59bf20d452b02c3', metadata={'type': 'image'}, page_number=None, content=None, image='https://ntropy-test.s3.amazonaws.com/pdf_images/image_37_1.png'),\n",
       " Document(id='2985715e42374050aed8018160932c47', metadata={'type': 'image'}, page_number=None, content=None, image='https://ntropy-test.s3.amazonaws.com/pdf_images/image_8_1.png'),\n",
       " Document(id='0c8f0e0195d74e80b452846596b28a56', metadata={'type': 'image'}, page_number=None, content=None, image='https://ntropy-test.s3.amazonaws.com/pdf_images/image_13_1.png'),\n",
       " Document(id='599c0e2c144445b5896f94e14215b97e', metadata={'type': 'image'}, page_number=None, content=None, image='https://ntropy-test.s3.amazonaws.com/pdf_images/image_56_1.png'),\n",
       " Document(id='acdb920baeda432d8cd67f23cd28a3a0', metadata={'type': 'image'}, page_number=None, content=None, image='https://ntropy-test.s3.amazonaws.com/pdf_images/image_11_1.png'),\n",
       " Document(id='ac90af960c3c4ab7af5ef46688b636be', metadata={'type': 'image'}, page_number=None, content=None, image='https://ntropy-test.s3.amazonaws.com/pdf_images/image_54_1.png'),\n",
       " Document(id='8f8bc8666d624a0f9c85baf82c56b034', metadata={'type': 'image'}, page_number=None, content=None, image='https://ntropy-test.s3.amazonaws.com/pdf_images/image_35_1.png')]"
      ]
     },
     "execution_count": 5,
     "metadata": {},
     "output_type": "execute_result"
    }
   ],
   "source": [
    "images_"
   ]
  },
  {
   "cell_type": "code",
   "execution_count": 6,
   "metadata": {},
   "outputs": [
    {
     "name": "stderr",
     "output_type": "stream",
     "text": [
      "Embedding documents: 100%|██████████| 62/62 [01:34<00:00,  1.53s/it]\n"
     ]
    }
   ],
   "source": [
    "from tqdm import tqdm\n",
    "from ntropy_ai.core.providers import openai # we import the openai class from the providers. a complete guide is available in the notebook LINK\n",
    "\n",
    "embeddings = []\n",
    "for doc in tqdm(images_, desc=\"Embedding documents\"):\n",
    "    # we now create the embeddings for each image, and append them to the embeddings list\n",
    "    # the openai.OpenAIEmbeddings directly return us a Vector object, that contains the embedding and the original document\n",
    "    embeddings.append(openai.OpenAIEmbeddings(model='openai.clip-vit-base-patch32', document=doc)) "
   ]
  },
  {
   "cell_type": "code",
   "execution_count": 7,
   "metadata": {},
   "outputs": [],
   "source": [
    "from ntropy_ai.core.vector_store.pinecone import Pinecone\n",
    "\n",
    "pc = Pinecone(index_name='aws-doc') # initialize a Pinecone object\n",
    "# create the index, dimension should be the same as the embeddings model. \n",
    "# metric can be chosen from the pinecone documentation\n",
    "pc.create_index(index_name=\"slide-deck\", dimension=512, metric=\"cosine\") \n",
    "pc.set_index(index_name=\"slide-deck\") # set the default index\n",
    "pc.set_embeddings_model(model=\"openai.clip-vit-base-patch32\", model_settings={}) # we set the default embedding model, which should be the same as the one we used to create the embeddings\n",
    "# we can set a model settings but it is not required"
   ]
  },
  {
   "cell_type": "code",
   "execution_count": 8,
   "metadata": {},
   "outputs": [
    {
     "name": "stderr",
     "output_type": "stream",
     "text": [
      "Adding vectors: 100%|██████████| 62/62 [00:25<00:00,  2.43it/s]\n"
     ]
    }
   ],
   "source": [
    "\n",
    "from tqdm import tqdm\n",
    "for v in tqdm(embeddings, desc=\"Adding vectors\"):\n",
    "    pc.add_vectors(vectors=[v]) #we add the vector individually on the pinecone vector store"
   ]
  },
  {
   "cell_type": "code",
   "execution_count": 34,
   "metadata": {},
   "outputs": [],
   "source": [
    "from ntropy_ai.core.vector_store.pinecone import Pinecone\n",
    "\n",
    "pc = Pinecone(index_name=\"slide-deck\")\n",
    "pc.set_index(index_name=\"slide-deck\") # set vector store to the index we created before\n",
    "pc.set_embeddings_model(model=\"openai.clip-vit-base-patch32\", model_settings={}) # set the default embedding model, which should be the same as the one we used to create the embeddings\n",
    "pc.set_retriever_settings(top_k=3, include_values=False) # we only want one results, too many image results can affect the quality of the response, especially with small models"
   ]
  },
  {
   "cell_type": "code",
   "execution_count": 36,
   "metadata": {},
   "outputs": [],
   "source": [
    "# create a function to query the vector embeddings base with keywords\n",
    "\n",
    "# we define our function\n",
    "def query_db(keywords: str):\n",
    "    data = pc.query(query_text=keywords)\n",
    "    return \",\".join([str(d.content) for d in data])\n",
    "\n",
    "# we define the function schema according to openai tool calling format\n",
    "openai_tools = [\n",
    "  {\n",
    "    \"type\": \"function\",\n",
    "    \"function\": {\n",
    "      \"name\": \"query_db\",\n",
    "      \"description\": \"Query the vector embeddings base with string keywords. The database is the slide deck of the Conoco Phillips AIM presentation\",\n",
    "      \"parameters\": {\n",
    "        \"type\": \"object\",\n",
    "        \"properties\": {\n",
    "          \"keywords\": {\n",
    "            \"type\": \"string\",\n",
    "            \"description\": \"The string keywords to query the vector embeddings base\",\n",
    "          }\n",
    "        },\n",
    "        \"required\": [\"keywords\"],\n",
    "      },\n",
    "    }\n",
    "  }\n",
    "]\n",
    "\n",
    "# we define a map to link the function to the python function we defined earlier\n",
    "functions_tools  = {\n",
    "    \"query_db\": query_db\n",
    "}\n",
    "\n",
    "from ntropy_ai.core.providers import openai # we import the openai class from the providers. a complete guide is available in the notebook LINK\n",
    "\n",
    "model = openai.OpenaiModel(\n",
    "    model_name=\"gpt-4o\", # gpt 4o on top\n",
    "    tools=openai_tools, # we define the tools that we want to use\n",
    "    tools_choice=\"required\", # we define the tools choice, which is required, auto or none\n",
    "    function_caller=functions_tools, # we define the function caller, which is the function to call the tools\n",
    "    system_prompt='Given the query, use the tool to query the slide deck of the Conoco Phillips AIM presentation.'\n",
    ")\n"
   ]
  },
  {
   "cell_type": "code",
   "execution_count": 37,
   "metadata": {},
   "outputs": [],
   "source": [
    "query_text = \"Describe the financial plan of ConocoPhilips\""
   ]
  },
  {
   "cell_type": "code",
   "execution_count": 38,
   "metadata": {},
   "outputs": [
    {
     "name": "stdout",
     "output_type": "stream",
     "text": [
      "[{'role': 'user', 'content': [{'type': 'text', 'text': 'Describe the financial plan of ConocoPhilips'}]}, {'role': 'assistant', 'content': [{'type': 'text', 'text': ''}], 'tool_calls': [{'id': 'call_Z8DmHjOCyWoKhuqOo25rpQ3B', 'type': 'function', 'function': {'name': 'query_db', 'arguments': '{\"keywords\": \"financial plan\"}'}}]}, {'role': 'tool', 'content': [{'type': 'text', 'text': 'https://ntropy-test.s3.amazonaws.com/pdf_images/image_45_1.png,https://ntropy-test.s3.amazonaws.com/pdf_images/image_52_1.png,https://ntropy-test.s3.amazonaws.com/pdf_images/image_7_1.png'}], 'tool_call_id': 'call_Z8DmHjOCyWoKhuqOo25rpQ3B'}]\n"
     ]
    }
   ],
   "source": [
    "r = model.chat(query=query_text)"
   ]
  },
  {
   "cell_type": "code",
   "execution_count": 39,
   "metadata": {},
   "outputs": [
    {
     "data": {
      "text/plain": [
       "[{'role': 'system',\n",
       "  'content': 'Given the query, use the tool to query the slide deck of the Conoco Phillips AIM presentation.',\n",
       "  'images': None,\n",
       "  'tool_call': None,\n",
       "  'tool_call_response': None,\n",
       "  'tools': None,\n",
       "  'timestamp': '2024-07-17T17:52:19.312332'},\n",
       " {'role': 'user',\n",
       "  'content': 'Describe the financial plan of ConocoPhilips',\n",
       "  'images': None,\n",
       "  'tool_call': None,\n",
       "  'tool_call_response': None,\n",
       "  'tools': [{'type': 'function',\n",
       "    'function': {'name': 'query_db',\n",
       "     'description': 'Query the vector embeddings base with string keywords. The database is the slide deck of the Conoco Phillips AIM presentation',\n",
       "     'parameters': {'type': 'object',\n",
       "      'properties': {'keywords': {'type': 'string',\n",
       "        'description': 'The string keywords to query the vector embeddings base'}},\n",
       "      'required': ['keywords']}}}],\n",
       "  'timestamp': '2024-07-17T17:52:24.862128'},\n",
       " {'role': 'function',\n",
       "  'content': None,\n",
       "  'images': None,\n",
       "  'tool_call': {'tool_name': 'query_db',\n",
       "   'arguments': {'keywords': 'financial plan'},\n",
       "   'id': 'call_Z8DmHjOCyWoKhuqOo25rpQ3B'},\n",
       "  'tool_call_response': 'https://ntropy-test.s3.amazonaws.com/pdf_images/image_45_1.png,https://ntropy-test.s3.amazonaws.com/pdf_images/image_52_1.png,https://ntropy-test.s3.amazonaws.com/pdf_images/image_7_1.png',\n",
       "  'tools': None,\n",
       "  'timestamp': '2024-07-17T17:52:27.080772'},\n",
       " {'role': 'assistant',\n",
       "  'content': \"The financial plan of ConocoPhillips appears to be detailed in a document spread across multiple pages. Unfortunately, I don't have direct access to the contents of these specific documents. However, generally speaking, a company's financial plan typically includes elements such as:\\n\\n1. **Revenue Projections**: Expected income from operations and other sources over a certain period.\\n2. **Expense Forecasts**: Detailed outlines of anticipated costs, including operational expenses, capital expenditures, and other liabilities.\\n3. **Capital Allocation**: Plans for investing in growth opportunities, research and development, acquisitions, and other strategic initiatives.\\n4. **Debt Management**: Strategy for handling long-term and short-term debt, including repayment schedules and interest obligations.\\n5. **Risk Management**: Identification and mitigation strategies for financial risks, including market volatility, currency fluctuations, and economic downturns.\\n6. **Performance Metrics**: Key indicators used to measure financial health and business performance, such as EBITDA, profit margins, and return on investment.\\n7. **Compliance and Reporting**: Adherence to regulatory requirements and standards for financial reporting and accountability.\\n\\nFor precise details about ConocoPhillips' current financial strategy, I would recommend consulting their latest financial statements, annual reports, or investor presentations which are typically available on their official website or through regulatory filings with the Securities and Exchange Commission (SEC).\",\n",
       "  'images': None,\n",
       "  'tool_call': None,\n",
       "  'tool_call_response': None,\n",
       "  'tools': None,\n",
       "  'timestamp': '2024-07-17T17:52:32.677879'}]"
      ]
     },
     "execution_count": 39,
     "metadata": {},
     "output_type": "execute_result"
    }
   ],
   "source": [
    "model.history.get_history() # we will extract the images url from the history"
   ]
  },
  {
   "cell_type": "code",
   "execution_count": 40,
   "metadata": {},
   "outputs": [],
   "source": [
    "images = model.history.get_history()[2]['tool_call_response'].split(',') # extract images url from query\n",
    "\n",
    "# pass it to the second model\n",
    "model_2 = openai.OpenaiModel(\n",
    "    model_name=\"gpt-4o\", # gpt 4o on top\n",
    "    system_prompt=\"\"\"Given the context information and not prior knowledge, answer the query. Explain your reasoning for the final answer\"\"\"\n",
    ")\n",
    "r = model_2.chat(\n",
    "    query=query_text,\n",
    "    images=images\n",
    ")"
   ]
  },
  {
   "cell_type": "code",
   "execution_count": 41,
   "metadata": {},
   "outputs": [
    {
     "name": "stdout",
     "output_type": "stream",
     "text": [
      "The financial plan of ConocoPhillips, as outlined in the provided images, is a comprehensive 10-year strategy spanning from 2023 to 2032. Key elements of the plan include:\n",
      "\n",
      "### Sources of Funds:\n",
      "- CFO at $60/BBL (Barrel) WTI Mid-Cycle Planning Price: Approximately $200 billion.\n",
      "- CFO at $80/BBL WTI Upside Sensitivity: Increased funds reaching up to approximately $300 billion.\n",
      "- Cash includes cash, cash equivalents, restricted cash, and short-term investments.\n",
      "\n",
      "### Uses of Funds:\n",
      "- **Capital Expenditures**\n",
      "- **30% of CFO Distribution Commitment:** Ensures a significant portion of cash flow from operations is committed to distributions.\n",
      "- **Additional Distributions:** Extra funds allocated for distributions over the planned commitment.\n",
      "\n",
      "### Financial Goals and Metrics:\n",
      "- **Return on Capital Employed (ROCE):** Aim for peer-leading ROCE improvement over time.\n",
      "- **Dividend Growth:** Target top quartile ordinary dividend growth.\n",
      "- **Market Cap Distribution:** Plans to distribute over 90% of the market capitalization, which is based on a market cap of approximately $121 billion as of March 31, 2023.\n",
      "- **WTI FCF Breakeven:** Targeting a breakeven price of approximately $35 per barrel of WTI.\n",
      "- **CFO and FCF CAGR:** Financial plans aim for a Compound Annual Growth Rate (CAGR) of about 6% for cash flow from operations (CFO) and around 11% for free cash flow (FCF).\n",
      "\n",
      "### Additional Notes:\n",
      "- The plan does not hedge for price upside, allowing it to potentially benefit more directly from favorable market conditions.\n",
      "- These financial objectives emphasize strong capital returns, sustainable growth, and substantial shareholder distributions.\n",
      "\n",
      "This robust financial strategy demonstrates ConocoPhillips' commitment to optimizing financial performance, enhancing shareholder value, and maintaining capital discipline over the next decade.\n"
     ]
    }
   ],
   "source": [
    "print(r) # final results"
   ]
  },
  {
   "cell_type": "markdown",
   "metadata": {},
   "source": [
    "The financial plan of ConocoPhillips, as outlined in the provided images, is a comprehensive 10-year strategy spanning from 2023 to 2032. Key elements of the plan include:\n",
    "\n",
    "### Sources of Funds:\n",
    "- CFO at $60/BBL (Barrel) WTI Mid-Cycle Planning Price: Approximately $200 billion.\n",
    "- CFO at $80/BBL WTI Upside Sensitivity: Increased funds reaching up to approximately $300 billion.\n",
    "- Cash includes cash, cash equivalents, restricted cash, and short-term investments.\n",
    "\n",
    "### Uses of Funds:\n",
    "- **Capital Expenditures**\n",
    "- **30% of CFO Distribution Commitment:** Ensures a significant portion of cash flow from operations is committed to distributions.\n",
    "- **Additional Distributions:** Extra funds allocated for distributions over the planned commitment.\n",
    "\n",
    "### Financial Goals and Metrics:\n",
    "- **Return on Capital Employed (ROCE):** Aim for peer-leading ROCE improvement over time.\n",
    "- **Dividend Growth:** Target top quartile ordinary dividend growth.\n",
    "- **Market Cap Distribution:** Plans to distribute over 90% of the market capitalization, which is based on a market cap of approximately $121 billion as of March 31, 2023.\n",
    "- **WTI FCF Breakeven:** Targeting a breakeven price of approximately $35 per barrel of WTI.\n",
    "- **CFO and FCF CAGR:** Financial plans aim for a Compound Annual Growth Rate (CAGR) of about 6% for cash flow from operations (CFO) and around 11% for free cash flow (FCF).\n",
    "\n",
    "### Additional Notes:\n",
    "- The plan does not hedge for price upside, allowing it to potentially benefit more directly from favorable market conditions.\n",
    "- These financial objectives emphasize strong capital returns, sustainable growth, and substantial shareholder distributions.\n",
    "\n",
    "This robust financial strategy demonstrates ConocoPhillips' commitment to optimizing financial performance, enhancing shareholder value, and maintaining capital discipline over the next decade.\n"
   ]
  }
 ],
 "metadata": {
  "kernelspec": {
   "display_name": "ntropy",
   "language": "python",
   "name": "python3"
  },
  "language_info": {
   "codemirror_mode": {
    "name": "ipython",
    "version": 3
   },
   "file_extension": ".py",
   "mimetype": "text/x-python",
   "name": "python",
   "nbconvert_exporter": "python",
   "pygments_lexer": "ipython3",
   "version": "3.10.14"
  }
 },
 "nbformat": 4,
 "nbformat_minor": 2
}
